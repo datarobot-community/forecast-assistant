{
 "cells": [
  {
   "cell_type": "code",
   "execution_count": null,
   "id": "initial_id",
   "metadata": {
    "collapsed": true,
    "execution": {
     "iopub.execute_input": "2024-10-03T19:28:40.803679Z",
     "iopub.status.busy": "2024-10-03T19:28:40.803333Z",
     "iopub.status.idle": "2024-10-03T19:28:42.043446Z",
     "shell.execute_reply": "2024-10-03T19:28:42.042229Z"
    },
    "papermill": {
     "duration": 1.2501,
     "end_time": "2024-10-03T19:28:42.046535",
     "exception": false,
     "start_time": "2024-10-03T19:28:40.796435",
     "status": "completed"
    },
    "tags": []
   },
   "outputs": [],
   "source": [
    "import os\n",
    "import sys\n",
    "from pathlib import Path\n",
    "from typing import Any, Dict, List, Optional\n",
    "\n",
    "import datarobot as dr\n",
    "from dotenv import load_dotenv\n",
    "\n",
    "# The notebook should be executed from the project root directory\n",
    "if \"_correct_path\" not in locals():\n",
    "    os.chdir(\"..\")\n",
    "    sys.path.append(\".\")\n",
    "    print(f\"changed dir to {Path('.').resolve()})\")\n",
    "    _correct_path = True\n",
    "load_dotenv()\n",
    "client = dr.Client()"
   ]
  },
  {
   "cell_type": "code",
   "execution_count": null,
   "id": "b161892ca68b251c",
   "metadata": {
    "execution": {
     "iopub.execute_input": "2024-10-03T19:28:42.066548Z",
     "iopub.status.busy": "2024-10-03T19:28:42.065898Z",
     "iopub.status.idle": "2024-10-03T19:28:43.659849Z",
     "shell.execute_reply": "2024-10-03T19:28:43.658490Z"
    },
    "papermill": {
     "duration": 1.605124,
     "end_time": "2024-10-03T19:28:43.662329",
     "exception": false,
     "start_time": "2024-10-03T19:28:42.057205",
     "status": "completed"
    },
    "tags": []
   },
   "outputs": [],
   "source": [
    "from datarobotx.idp.use_cases import get_or_create_use_case\n",
    "\n",
    "from infra.settings_main import use_case_args\n",
    "\n",
    "if \"DATAROBOT_DEFAULT_USE_CASE\" in os.environ:\n",
    "    use_case_id = os.environ[\"DATAROBOT_DEFAULT_USE_CASE\"]\n",
    "else:\n",
    "    use_case_id = get_or_create_use_case(\n",
    "        endpoint=client.endpoint,\n",
    "        token=client.token,\n",
    "        name=use_case_args.resource_name,\n",
    "        description=use_case_args.description,\n",
    "    )"
   ]
  },
  {
   "cell_type": "markdown",
   "id": "d111948bcc943419",
   "metadata": {
    "papermill": {
     "duration": 0.004064,
     "end_time": "2024-10-03T19:28:43.672062",
     "exception": false,
     "start_time": "2024-10-03T19:28:43.667998",
     "status": "completed"
    },
    "tags": []
   },
   "source": [
    "# Data Ingest and Preparation"
   ]
  },
  {
   "cell_type": "code",
   "execution_count": null,
   "id": "f8611f861f1224dd",
   "metadata": {
    "execution": {
     "iopub.execute_input": "2024-10-03T19:28:43.682281Z",
     "iopub.status.busy": "2024-10-03T19:28:43.681668Z",
     "iopub.status.idle": "2024-10-03T19:28:43.705618Z",
     "shell.execute_reply": "2024-10-03T19:28:43.704793Z"
    },
    "papermill": {
     "duration": 0.030906,
     "end_time": "2024-10-03T19:28:43.707654",
     "exception": false,
     "start_time": "2024-10-03T19:28:43.676748",
     "status": "completed"
    },
    "tags": []
   },
   "outputs": [],
   "source": [
    "import pandas as pd\n",
    "\n",
    "from infra.settings_datasets import training_dataset\n",
    "\n",
    "# Replace as needed with your own data ingest and/or preparation logic\n",
    "df = pd.read_csv(training_dataset.file_path)"
   ]
  },
  {
   "cell_type": "code",
   "execution_count": null,
   "id": "67123519f845d3ec",
   "metadata": {
    "execution": {
     "iopub.execute_input": "2024-10-03T19:28:43.717694Z",
     "iopub.status.busy": "2024-10-03T19:28:43.717376Z",
     "iopub.status.idle": "2024-10-03T19:28:45.355481Z",
     "shell.execute_reply": "2024-10-03T19:28:45.354570Z"
    },
    "papermill": {
     "duration": 1.645259,
     "end_time": "2024-10-03T19:28:45.358023",
     "exception": false,
     "start_time": "2024-10-03T19:28:43.712764",
     "status": "completed"
    },
    "tags": []
   },
   "outputs": [],
   "source": [
    "from datarobotx.idp.datasets import get_or_create_dataset_from_df\n",
    "\n",
    "print(\"Uploading training data to AI Catalog...\")\n",
    "training_dataset_id = get_or_create_dataset_from_df(\n",
    "    endpoint=client.endpoint,\n",
    "    token=client.token,\n",
    "    data_frame=df,\n",
    "    name=training_dataset.resource_name,\n",
    "    use_cases=use_case_id,\n",
    ")"
   ]
  },
  {
   "cell_type": "markdown",
   "id": "dc1889058273e97b",
   "metadata": {
    "papermill": {
     "duration": 0.004072,
     "end_time": "2024-10-03T19:28:45.367695",
     "exception": false,
     "start_time": "2024-10-03T19:28:45.363623",
     "status": "completed"
    },
    "tags": []
   },
   "source": [
    "# Model Training"
   ]
  },
  {
   "cell_type": "code",
   "execution_count": null,
   "id": "99a32355c63f07b7",
   "metadata": {
    "execution": {
     "iopub.execute_input": "2024-10-03T19:28:45.378297Z",
     "iopub.status.busy": "2024-10-03T19:28:45.377896Z",
     "iopub.status.idle": "2024-10-03T19:28:45.386049Z",
     "shell.execute_reply": "2024-10-03T19:28:45.384891Z"
    },
    "papermill": {
     "duration": 0.015058,
     "end_time": "2024-10-03T19:28:45.388066",
     "exception": false,
     "start_time": "2024-10-03T19:28:45.373008",
     "status": "completed"
    },
    "tags": []
   },
   "outputs": [],
   "source": [
    "from forecastic.schema import FeatureSettingConfig\n",
    "from infra.common.schema import (\n",
    "    AdvancedOptionsArgs,\n",
    "    AnalyzeAndModelArgs,\n",
    "    AutopilotRunArgs,\n",
    "    CalendarArgs,\n",
    "    DatetimePartitioningArgs,\n",
    ")\n",
    "from infra.settings_main import project_name\n",
    "\n",
    "calendar_args = CalendarArgs(\n",
    "    country_code=\"US\",\n",
    "    name=f\"Calendar [{project_name}]\",\n",
    "    start_date=\"2012-01-01\",\n",
    "    end_date=\"2022-01-01\",\n",
    ")\n",
    "autopilotrun_args = AutopilotRunArgs(\n",
    "    name=f\"Forecast Assistant Project [{project_name}]\",\n",
    "    advanced_options_config=AdvancedOptionsArgs(seed=42),\n",
    "    analyze_and_model_config=AnalyzeAndModelArgs(\n",
    "        metric=\"RMSE\",\n",
    "        mode=dr.enums.AUTOPILOT_MODE.QUICK,\n",
    "        target=\"Sales\",\n",
    "        worker_count=-1,\n",
    "    ),\n",
    "    datetime_partitioning_config=DatetimePartitioningArgs(\n",
    "        datetime_partition_column=\"Date\",\n",
    "        multiseries_id_columns=[\"Store\"],\n",
    "        use_time_series=True,\n",
    "        feature_derivation_window_start=-35,\n",
    "        feature_derivation_window_end=0,\n",
    "        forecast_window_start=1,\n",
    "        forecast_window_end=30,\n",
    "    ),\n",
    "    feature_settings_config=[\n",
    "        FeatureSettingConfig(feature_name=\"Store_Size\", known_in_advance=True),\n",
    "        FeatureSettingConfig(feature_name=\"Marketing\", known_in_advance=True),\n",
    "        FeatureSettingConfig(feature_name=\"TouristEvent\", known_in_advance=True),\n",
    "    ],\n",
    ")\n",
    "\n",
    "registered_model_name = f\"Forecastic Registered Model [{project_name}]\""
   ]
  },
  {
   "cell_type": "code",
   "execution_count": null,
   "id": "d110df13594623e8",
   "metadata": {
    "execution": {
     "iopub.execute_input": "2024-10-03T19:28:45.398923Z",
     "iopub.status.busy": "2024-10-03T19:28:45.398434Z",
     "iopub.status.idle": "2024-10-03T19:28:49.132597Z",
     "shell.execute_reply": "2024-10-03T19:28:49.131627Z"
    },
    "papermill": {
     "duration": 3.741162,
     "end_time": "2024-10-03T19:28:49.133955",
     "exception": true,
     "start_time": "2024-10-03T19:28:45.392793",
     "status": "failed"
    },
    "tags": []
   },
   "outputs": [],
   "source": [
    "from datarobotx.idp.autopilot import get_or_create_autopilot_run\n",
    "from datarobotx.idp.calendars import get_or_create_calendar_dataset_from_country_code\n",
    "from datarobotx.idp.registered_model_versions import (\n",
    "    get_or_create_registered_leaderboard_model_version,\n",
    ")\n",
    "\n",
    "calendar_id = get_or_create_calendar_dataset_from_country_code(\n",
    "    endpoint=client.endpoint, token=client.token, **calendar_args.model_dump()\n",
    ")\n",
    "\n",
    "print(\"Running Autopilot...\")\n",
    "project_id = get_or_create_autopilot_run(\n",
    "    endpoint=client.endpoint,\n",
    "    token=client.token,\n",
    "    calendar_id=calendar_id,\n",
    "    dataset_id=training_dataset_id,\n",
    "    use_case=use_case_id,\n",
    "    **autopilotrun_args.model_dump(),\n",
    ")\n",
    "\n",
    "model_id = dr.ModelRecommendation.get(project_id).model_id\n",
    "\n",
    "print(\"Registered recommended model...\")\n",
    "registered_model_version_id = get_or_create_registered_leaderboard_model_version(\n",
    "    endpoint=client.endpoint,\n",
    "    token=client.token,\n",
    "    model_id=model_id,\n",
    "    registered_model_name=registered_model_name,\n",
    "    compute_all_ts_intervals=True,\n",
    ")"
   ]
  },
  {
   "cell_type": "markdown",
   "id": "38d48a3ab6e95e0e",
   "metadata": {
    "papermill": {
     "duration": null,
     "end_time": null,
     "exception": null,
     "start_time": null,
     "status": "pending"
    },
    "tags": []
   },
   "source": [
    "# Generate modeling artifacts needed for app"
   ]
  },
  {
   "cell_type": "code",
   "execution_count": null,
   "id": "9c218232a76bfffa",
   "metadata": {
    "execution": {
     "iopub.execute_input": "2024-10-03T18:33:52.298666Z",
     "iopub.status.busy": "2024-10-03T18:33:52.298322Z",
     "iopub.status.idle": "2024-10-03T18:33:52.307406Z",
     "shell.execute_reply": "2024-10-03T18:33:52.306622Z"
    },
    "papermill": {
     "duration": null,
     "end_time": null,
     "exception": null,
     "start_time": null,
     "status": "pending"
    },
    "tags": []
   },
   "outputs": [],
   "source": [
    "from forecastic.schema import WhatIfFeature\n",
    "\n",
    "\n",
    "def get_what_if_features(\n",
    "    project_id: str,\n",
    "    model_id: str,\n",
    "    feature_settings_config: Optional[List[FeatureSettingConfig]] = None,\n",
    ") -> List[WhatIfFeature]:\n",
    "    \"\"\"Returns features to be exposed in app for what if analysis\n",
    "\n",
    "    Only returns categorical and numeric known in advance features.\n",
    "    Categories are returned with selectable options.\n",
    "\n",
    "    Parameters\n",
    "    ----------\n",
    "    feature_settings_config : Optional[List[Dict[str, Any]]]\n",
    "        Known in advance features\n",
    "    \"\"\"\n",
    "\n",
    "    if not feature_settings_config:\n",
    "        return []\n",
    "\n",
    "    project = dr.Project.get(project_id)  # type: ignore[attr-defined]\n",
    "    model = dr.Model.get(project=project_id, model_id=model_id)  # type: ignore[attr-defined]\n",
    "    dataset = project.get_dataset()\n",
    "    if dataset is None:\n",
    "        raise ValueError(\"Dataset not found\")\n",
    "    model_features = set(model.get_features_used())\n",
    "    feature_types = dataset.get_all_features()\n",
    "    dataframe = dataset.get_as_dataframe()\n",
    "\n",
    "    numerics = set([i.name for i in feature_types if i.feature_type == \"Numeric\"])\n",
    "    categoricals = set(\n",
    "        [i.name for i in feature_types if i.feature_type == \"Categorical\"]\n",
    "    )\n",
    "    allowed_features = numerics.union(categoricals)\n",
    "\n",
    "    whatif_features = []\n",
    "    for feature in feature_settings_config:\n",
    "        if (\n",
    "            feature.known_in_advance\n",
    "            and feature.feature_name in model_features\n",
    "            and feature.feature_name in allowed_features\n",
    "        ):\n",
    "            append_feature = feature.model_dump(mode=\"json\")\n",
    "            if feature.feature_name in categoricals:\n",
    "                append_feature[\"values\"] = list(\n",
    "                    dataframe[feature.feature_name].unique()\n",
    "                )\n",
    "\n",
    "            whatif_features.append(WhatIfFeature(**append_feature))\n",
    "    return whatif_features"
   ]
  },
  {
   "cell_type": "code",
   "execution_count": null,
   "id": "d9e263802ff06068",
   "metadata": {
    "execution": {
     "iopub.execute_input": "2024-10-03T18:33:52.318293Z",
     "iopub.status.busy": "2024-10-03T18:33:52.317941Z",
     "iopub.status.idle": "2024-10-03T18:33:52.323207Z",
     "shell.execute_reply": "2024-10-03T18:33:52.322531Z"
    },
    "papermill": {
     "duration": null,
     "end_time": null,
     "exception": null,
     "start_time": null,
     "status": "pending"
    },
    "tags": []
   },
   "outputs": [],
   "source": [
    "def get_most_important_features(\n",
    "    project_id: str,\n",
    "    model_id: str,\n",
    "    minimum_importance: float = 0.03,\n",
    "    max_wait: int = 600,\n",
    ") -> List[Dict[str, Any]]:\n",
    "    \"\"\"Get the most important features for the model.\n",
    "\n",
    "    Parameters\n",
    "    ----------\n",
    "    max_features : int\n",
    "        The maximum number of features to return\n",
    "    max_wait : int\n",
    "        The maximum time to wait for the feature impact to be calculated\n",
    "    \"\"\"\n",
    "\n",
    "    model = dr.Model.get(model_id=model_id, project=project_id)  # type: ignore[attr-defined]\n",
    "    feature_impact = model.get_or_request_feature_impact(max_wait=max_wait)\n",
    "\n",
    "    return [\n",
    "        {\n",
    "            \"featureName\": feature[\"featureName\"],\n",
    "            \"impactNormalized\": feature[\"impactNormalized\"],\n",
    "        }\n",
    "        for feature in feature_impact\n",
    "        if feature[\"impactNormalized\"] > minimum_importance\n",
    "    ]"
   ]
  },
  {
   "cell_type": "code",
   "execution_count": null,
   "id": "ec212e16ffabf203",
   "metadata": {
    "execution": {
     "iopub.execute_input": "2024-10-03T18:33:52.333962Z",
     "iopub.status.busy": "2024-10-03T18:33:52.333298Z",
     "iopub.status.idle": "2024-10-03T18:33:52.338984Z",
     "shell.execute_reply": "2024-10-03T18:33:52.338094Z"
    },
    "papermill": {
     "duration": null,
     "end_time": null,
     "exception": null,
     "start_time": null,
     "status": "pending"
    },
    "tags": []
   },
   "outputs": [],
   "source": [
    "def get_timestep_settings(\n",
    "    project_id: str,\n",
    "    datetime_partition_column: str,\n",
    ") -> Dict[str, Any]:\n",
    "    \"\"\"Get window basis unit and interval from timeseries project\n",
    "\n",
    "    Returns\n",
    "    -------\n",
    "    Dict[str, Any]\n",
    "        Time unit and step\n",
    "    \"\"\"\n",
    "    url = f\"projects/{project_id}/features/{datetime_partition_column}/multiseriesProperties\"\n",
    "    response = client.get(url).json()\n",
    "    timestep_settings: dict[str, Any] = response[\"detectedMultiseriesIdColumns\"][0]\n",
    "    del timestep_settings[\"multiseriesIdColumns\"]\n",
    "    return timestep_settings"
   ]
  },
  {
   "cell_type": "code",
   "execution_count": null,
   "id": "727b1c59148cb1a2",
   "metadata": {},
   "outputs": [],
   "source": [
    "print(\"Running feature impact...\")\n",
    "important_features = get_most_important_features(\n",
    "    project_id=project_id,\n",
    "    model_id=model_id,\n",
    "    minimum_importance=0.05,  # cleanup\n",
    ")"
   ]
  },
  {
   "cell_type": "markdown",
   "id": "1b65659fb9ad2b63",
   "metadata": {
    "papermill": {
     "duration": null,
     "end_time": null,
     "exception": null,
     "start_time": null,
     "status": "pending"
    },
    "tags": []
   },
   "source": [
    "# Export settings for provisioning app, other dependent resources"
   ]
  },
  {
   "cell_type": "code",
   "execution_count": null,
   "id": "8d0a131a",
   "metadata": {},
   "outputs": [],
   "source": [
    "import textwrap\n",
    "\n",
    "from forecastic.schema import CategoryFilter, StaticAppSettings\n",
    "\n",
    "static_app_settings = StaticAppSettings(\n",
    "    filterable_categories=[\n",
    "        CategoryFilter(column_name=\"Store\", display_name=\"Store\"),\n",
    "        CategoryFilter(column_name=\"Region\", display_name=\"Region\"),\n",
    "        CategoryFilter(column_name=\"Market\", display_name=\"Market\"),\n",
    "    ],\n",
    "    page_description=\"This application forecasts the sale revenue of a national retailer. The forecast can be focused by region, market, or store.\",\n",
    "    lower_bound_forecast_at_0=True,\n",
    "    graph_y_axis=\"Sales ($)\",\n",
    "    page_title=\"Multistore Sales Forecast Interpreter\",\n",
    "    headline_prompt=textwrap.dedent(\n",
    "        \"\"\"\\\n",
    "        You are a data analyst and your job is to explain to non-technical executive business leaders what the data suggests.\n",
    "        Executive leadership will provide a sales forecast and you will interpret it and summarize the outlook, highlighting key insights.\n",
    "        Your response should be only 1 sentence long, not very wordy. It should be like a news headline. Do not put quotation marks around it.\n",
    "        Your response, while insightful, should speak to the general direction of the forecast.\n",
    "\"\"\"\n",
    "    ),\n",
    ")"
   ]
  },
  {
   "cell_type": "code",
   "execution_count": null,
   "id": "c0fdc36947ec5f8d",
   "metadata": {
    "execution": {
     "iopub.execute_input": "2024-10-03T18:33:52.350444Z",
     "iopub.status.busy": "2024-10-03T18:33:52.350029Z",
     "iopub.status.idle": "2024-10-03T18:33:55.674489Z",
     "shell.execute_reply": "2024-10-03T18:33:55.673269Z"
    },
    "papermill": {
     "duration": null,
     "end_time": null,
     "exception": null,
     "start_time": null,
     "status": "pending"
    },
    "tags": []
   },
   "outputs": [],
   "source": [
    "import yaml\n",
    "\n",
    "from forecastic.schema import AppSettings\n",
    "from infra.settings_main import model_training_output_file\n",
    "\n",
    "print(\"Capturing settings required to deploy the frontend...\")\n",
    "registered_model = next(\n",
    "    rm\n",
    "    for rm in dr.RegisteredModel.list(search=registered_model_name)\n",
    "    if rm.name == registered_model_name\n",
    ")\n",
    "\n",
    "app_settings = AppSettings.from_registered_model_version(\n",
    "    target=autopilotrun_args.analyze_and_model_config.target,\n",
    "    registered_model_id=registered_model.id,\n",
    "    registered_model_version_id=registered_model_version_id,\n",
    "    what_if_features=get_what_if_features(\n",
    "        project_id=project_id,\n",
    "        model_id=model_id,\n",
    "        feature_settings_config=autopilotrun_args.feature_settings_config,\n",
    "    ),\n",
    "    important_features=important_features,\n",
    "    prediction_interval=80,\n",
    "    static_app_settings=static_app_settings,\n",
    ")\n",
    "\n",
    "with open(model_training_output_file, \"w\") as f:\n",
    "    yaml.dump(app_settings.model_dump(), f)"
   ]
  }
 ],
 "metadata": {
  "kernelspec": {
   "display_name": ".venv",
   "language": "python",
   "name": "python3"
  },
  "language_info": {
   "codemirror_mode": {
    "name": "ipython",
    "version": 3
   },
   "file_extension": ".py",
   "mimetype": "text/x-python",
   "name": "python",
   "nbconvert_exporter": "python",
   "pygments_lexer": "ipython3",
   "version": "3.10.4"
  },
  "papermill": {
   "default_parameters": {},
   "duration": 10.026671,
   "end_time": "2024-10-03T19:28:49.662019",
   "environment_variables": {},
   "exception": true,
   "input_path": "notebooks/train_model.ipynb",
   "output_path": "notebooks/train_model.ipynb",
   "parameters": {},
   "start_time": "2024-10-03T19:28:39.635348",
   "version": "2.6.0"
  }
 },
 "nbformat": 4,
 "nbformat_minor": 5
}
