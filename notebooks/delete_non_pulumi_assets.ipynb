{
 "cells": [
  {
   "cell_type": "markdown",
   "metadata": {},
   "source": [
    "# Deleting Assets\n",
    "\n",
    "To clean up te resources that are not included in the pulumi stack, first select the stack, and then run this notebook.\n",
    "\n",
    "This notebook has to be run *after* running `pulumi down` has completed.   "
   ]
  },
  {
   "cell_type": "code",
   "execution_count": null,
   "metadata": {},
   "outputs": [],
   "source": [
    "import os\n",
    "import sys\n",
    "from pathlib import Path\n",
    "\n",
    "import datarobot as dr\n",
    "from dotenv import load_dotenv\n",
    "\n",
    "# The notebook should be executed from the project root directory\n",
    "if \"_correct_path\" not in locals():\n",
    "    os.chdir(\"..\")\n",
    "    sys.path.append(\".\")\n",
    "    print(f\"changed dir to {Path('.').resolve()})\")\n",
    "    _correct_path = True\n",
    "load_dotenv()\n",
    "client = dr.Client()"
   ]
  },
  {
   "cell_type": "code",
   "execution_count": null,
   "metadata": {},
   "outputs": [],
   "source": [
    "import yaml\n",
    "\n",
    "from forecastic.resources import ScoringDataset\n",
    "from forecastic.schema import AppSettings\n",
    "from infra.settings_main import model_training_output_file, scoring_prep_output_file\n",
    "\n",
    "with open(model_training_output_file) as f:\n",
    "    app_settings = AppSettings.model_validate(yaml.safe_load(f))\n",
    "with open(scoring_prep_output_file) as f:\n",
    "    scoring_dataset = ScoringDataset.model_validate(yaml.safe_load(f))"
   ]
  },
  {
   "cell_type": "code",
   "execution_count": null,
   "metadata": {},
   "outputs": [],
   "source": [
    "try:\n",
    "    dr.RegisteredModel.archive(app_settings.registered_model_id)\n",
    "    print(f\"Registered model {app_settings.registered_model_id} has been deleted\")\n",
    "except Exception as e:\n",
    "    print(f\"Could not delete registed model {app_settings.registered_model_id}\")\n",
    "    print(e)\n",
    "try:\n",
    "    dr.Project.get(app_settings.project_id).delete()\n",
    "    print(f\"Project {app_settings.project_id} has been deleted\")\n",
    "except Exception as e:\n",
    "    print(f\"Could not delete Project {app_settings.project_id}\")\n",
    "    print(e)\n",
    "try:\n",
    "    dr.Dataset.delete(app_settings.training_dataset_id)\n",
    "    print(f\"Training Dataset {app_settings.training_dataset_id} has been deleted\")\n",
    "except Exception as e:\n",
    "    print(f\"Could not delete training Dataset {app_settings.training_dataset_id}\")\n",
    "    print(e)\n",
    "try:\n",
    "    dr.Dataset.delete(scoring_dataset.id)\n",
    "    print(f\"Scoring dataset {scoring_dataset.id} has been deleted\")\n",
    "except Exception as e:\n",
    "    print(f\"Could not delete scoring dataset {scoring_dataset.id}\")\n",
    "    print(e)\n",
    "try:\n",
    "    dr.CalendarFile.delete(app_settings.calendar_id)\n",
    "    print(f\"Calendar {app_settings.calendar_id} has been deleted\")\n",
    "except Exception as e:\n",
    "    print(f\"Could not delete Calendar {app_settings.calendar_id}\")\n",
    "    print(e)"
   ]
  },
  {
   "cell_type": "code",
   "execution_count": null,
   "metadata": {},
   "outputs": [],
   "source": [
    "try:\n",
    "    dr.UseCase.delete(app_settings.use_case_id)\n",
    "    print(f\"Use Case {app_settings.use_case_id} has been deleted\")\n",
    "except Exception as e:\n",
    "    print(f\"Could not delete Use Case {app_settings.use_case_id}\")\n",
    "    print(e)"
   ]
  },
  {
   "cell_type": "code",
   "execution_count": null,
   "metadata": {},
   "outputs": [],
   "source": []
  }
 ],
 "metadata": {
  "kernelspec": {
   "display_name": ".venv",
   "language": "python",
   "name": "python3"
  },
  "language_info": {
   "codemirror_mode": {
    "name": "ipython",
    "version": 3
   },
   "file_extension": ".py",
   "mimetype": "text/x-python",
   "name": "python",
   "nbconvert_exporter": "python",
   "pygments_lexer": "ipython3",
   "version": "3.11.9"
  }
 },
 "nbformat": 4,
 "nbformat_minor": 2
}
