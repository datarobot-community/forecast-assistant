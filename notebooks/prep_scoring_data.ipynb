{
 "cells": [
  {
   "cell_type": "code",
   "execution_count": null,
   "id": "initial_id",
   "metadata": {
    "collapsed": true
   },
   "outputs": [],
   "source": [
    "import os\n",
    "import sys\n",
    "from pathlib import Path\n",
    "\n",
    "import datarobot as dr\n",
    "from dotenv import load_dotenv\n",
    "\n",
    "# The notebook should be executed from the project root directory\n",
    "if \"_correct_path\" not in locals():\n",
    "    os.chdir(\"..\")\n",
    "    sys.path.append(\".\")\n",
    "    print(f\"changed dir to {Path('.').resolve()})\")\n",
    "    _correct_path = True\n",
    "load_dotenv()\n",
    "client = dr.Client()"
   ]
  },
  {
   "cell_type": "code",
   "execution_count": null,
   "id": "9253a07315e51b85",
   "metadata": {},
   "outputs": [],
   "source": [
    "from datarobotx.idp.use_cases import get_or_create_use_case\n",
    "\n",
    "from infra.settings_main import use_case_args\n",
    "\n",
    "if \"DATAROBOT_DEFAULT_USE_CASE\" in os.environ:\n",
    "    use_case_id = os.environ[\"DATAROBOT_DEFAULT_USE_CASE\"]\n",
    "else:\n",
    "    use_case_id = get_or_create_use_case(\n",
    "        endpoint=client.endpoint,\n",
    "        token=client.token,\n",
    "        name=use_case_args.resource_name,\n",
    "        description=use_case_args.description,\n",
    "    )"
   ]
  },
  {
   "cell_type": "markdown",
   "id": "c9d4430eae5bac5a",
   "metadata": {},
   "source": [
    "# Scoring Data Ingest and Preparation"
   ]
  },
  {
   "cell_type": "code",
   "execution_count": null,
   "id": "113cac15611fc0e0",
   "metadata": {},
   "outputs": [],
   "source": [
    "import pandas as pd\n",
    "\n",
    "from infra.settings_datasets import scoring_dataset\n",
    "\n",
    "# Replace as needed with your own data ingest and/or preparation logic\n",
    "df = pd.read_csv(scoring_dataset.file_path)"
   ]
  },
  {
   "cell_type": "code",
   "execution_count": null,
   "id": "f14acbe68e54fc7d",
   "metadata": {},
   "outputs": [],
   "source": [
    "from datarobotx.idp.datasets import get_or_create_dataset_from_df\n",
    "\n",
    "print(\"Uploading scoring dataset...\")\n",
    "scoring_dataset_id = get_or_create_dataset_from_df(\n",
    "    endpoint=client.endpoint,\n",
    "    token=client.token,\n",
    "    data_frame=df,\n",
    "    name=scoring_dataset.resource_name,\n",
    "    use_cases=use_case_id,\n",
    ")"
   ]
  },
  {
   "cell_type": "markdown",
   "id": "2255409d3314e04a",
   "metadata": {},
   "source": [
    "# Export dataset id for provisioning app, other dependent resources"
   ]
  },
  {
   "cell_type": "code",
   "execution_count": null,
   "id": "fe4e8169e5f4105d",
   "metadata": {},
   "outputs": [],
   "source": [
    "import yaml\n",
    "\n",
    "from forecastic.resources import ScoringDataset\n",
    "from infra.settings_main import scoring_prep_output_file\n",
    "\n",
    "with open(scoring_prep_output_file, \"w\") as f:\n",
    "    yaml.dump(\n",
    "        ScoringDataset.model_construct(id=scoring_dataset_id).model_dump(),\n",
    "        f,\n",
    "        allow_unicode=True,\n",
    "    )"
   ]
  }
 ],
 "metadata": {
  "kernelspec": {
   "display_name": ".venv",
   "language": "python",
   "name": "python3"
  },
  "language_info": {
   "codemirror_mode": {
    "name": "ipython",
    "version": 2
   },
   "file_extension": ".py",
   "mimetype": "text/x-python",
   "name": "python",
   "nbconvert_exporter": "python",
   "pygments_lexer": "ipython2",
   "version": "3.10.4"
  }
 },
 "nbformat": 4,
 "nbformat_minor": 5
}
